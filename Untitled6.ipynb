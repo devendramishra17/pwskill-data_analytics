{
  "nbformat": 4,
  "nbformat_minor": 0,
  "metadata": {
    "colab": {
      "provenance": [],
      "authorship_tag": "ABX9TyN1SgTQu/tcQGA8SWJNefuk",
      "include_colab_link": true
    },
    "kernelspec": {
      "name": "python3",
      "display_name": "Python 3"
    },
    "language_info": {
      "name": "python"
    }
  },
  "cells": [
    {
      "cell_type": "markdown",
      "metadata": {
        "id": "view-in-github",
        "colab_type": "text"
      },
      "source": [
        "<a href=\"https://colab.research.google.com/github/devendramishra17/pwskill-data_analytics/blob/main/Untitled6.ipynb\" target=\"_parent\"><img src=\"https://colab.research.google.com/assets/colab-badge.svg\" alt=\"Open In Colab\"/></a>"
      ]
    },
    {
      "cell_type": "markdown",
      "source": [
        "**Question ->>** Write a Python function that takes a list of numbers as input and returns the sum of all even numbers in\n",
        "the list."
      ],
      "metadata": {
        "id": "BPBmRdR8tp1n"
      }
    },
    {
      "cell_type": "code",
      "source": [
        "def sum_of_even_numbers(numbers):\n",
        "    sum = 0\n",
        "    for num in numbers:\n",
        "        if num % 2 == 0:\n",
        "            sum += num\n",
        "    return sum"
      ],
      "metadata": {
        "id": "QcU8iB-Ju2ag"
      },
      "execution_count": 4,
      "outputs": []
    },
    {
      "cell_type": "markdown",
      "source": [
        "**Question ->>** Create a Python function that accepts a string and returns the reverse of that string."
      ],
      "metadata": {
        "id": "Pl_d45IuvfX5"
      }
    },
    {
      "cell_type": "code",
      "source": [
        "s = input(\"Enter the string: \")\n",
        "for i in range(len(s)-1,-1,-1):\n",
        "  print(s[i],end=\"\")\n",
        "\n",
        "# function is here\n",
        "# def reverse_string(s):\n",
        "#  return s[::-1]\n"
      ],
      "metadata": {
        "colab": {
          "base_uri": "https://localhost:8080/"
        },
        "id": "jSXyGabPvp0h",
        "outputId": "5b438e9d-a7a1-4b62-fd4d-5c59f9e0694f"
      },
      "execution_count": 6,
      "outputs": [
        {
          "output_type": "stream",
          "name": "stdout",
          "text": [
            "Enter the string: Ankit\n",
            "tiknA"
          ]
        }
      ]
    },
    {
      "cell_type": "markdown",
      "source": [
        "**Question-->>** Implement a Python function that takes a list of integers and returns a new list containing the squares of\n",
        "each number"
      ],
      "metadata": {
        "id": "uEWKZYDvxCWd"
      }
    },
    {
      "cell_type": "code",
      "source": [
        "def square_numbers(numbers):\n",
        "  squares = []\n",
        "  for number in numbers:\n",
        "    squares.append(number ** 2)\n",
        "  return squares"
      ],
      "metadata": {
        "id": "3sjeikYmxadO"
      },
      "execution_count": 7,
      "outputs": []
    },
    {
      "cell_type": "markdown",
      "source": [
        "**Question -->>**  Write a Python function that checks if a given number is prime or not from 1 to 200"
      ],
      "metadata": {
        "id": "S9JvdrY3xiHZ"
      }
    },
    {
      "cell_type": "code",
      "source": [
        "def is_prime(num):\n",
        "  if num <= 1:\n",
        "    return False\n",
        "  for i in range(2, int(num ** 0.5) + 1):\n",
        "    if num % i == 0:\n",
        "      return False\n",
        "  return True\n"
      ],
      "metadata": {
        "id": "OE6K_lggxxVI"
      },
      "execution_count": null,
      "outputs": []
    },
    {
      "cell_type": "markdown",
      "source": [
        "**Question -->** Create an iterator class in Python that generates the Fibonacci sequence up to a specified number of\n",
        "terms."
      ],
      "metadata": {
        "id": "YaAESCgXyVMe"
      }
    },
    {
      "cell_type": "code",
      "source": [
        "class FibonacciIterator:\n",
        "    def __init__(self, n_terms):\n",
        "        self.n_terms = n_terms  # Number of terms in the Fibonacci sequence\n",
        "        self.current = 0        # Current position in the sequence\n",
        "        self.a, self.b = 0, 1   # Starting values of the sequence\n",
        "\n",
        "    def __iter__(self):\n",
        "        return self\n",
        "\n",
        "    def __next__(self):\n",
        "        if self.current >= self.n_terms:\n",
        "            raise StopIteration\n",
        "        if self.current == 0:\n",
        "            self.current += 1\n",
        "            return self.a\n",
        "        elif self.current == 1:\n",
        "            self.current += 1\n",
        "            return self.b\n",
        "        else:\n",
        "            self.a, self.b = self.b, self.a + self.b\n",
        "            self.current += 1\n",
        "            return self.a"
      ],
      "metadata": {
        "id": "H0TjxlHqznfM"
      },
      "execution_count": 8,
      "outputs": []
    },
    {
      "cell_type": "markdown",
      "source": [
        "**Question ->>**  Write a generator function in Python that yields the powers of 2 up to a given exponent."
      ],
      "metadata": {
        "id": "sdzjNq48ztbq"
      }
    },
    {
      "cell_type": "code",
      "source": [
        "def powers_of_two(exponent):\n",
        "  for i in range(exponent + 1):\n",
        "    yield 2 ** i"
      ],
      "metadata": {
        "id": "GcwKh6c8zz3W"
      },
      "execution_count": null,
      "outputs": []
    },
    {
      "cell_type": "markdown",
      "source": [
        "**Question -->>**  Implement a generator function that reads a file line by line and yields each line as a string."
      ],
      "metadata": {
        "id": "-lff5Boy0Ech"
      }
    },
    {
      "cell_type": "code",
      "source": [
        "def read_file_line_by_line(filename):\n",
        "  with open(filename, 'r') as file:\n",
        "    for line in file:\n",
        "      yield line.strip()\n"
      ],
      "metadata": {
        "id": "cghVKqmi0PnX"
      },
      "execution_count": 9,
      "outputs": []
    },
    {
      "cell_type": "markdown",
      "source": [
        "**Question -->** Use a lambda function in Python to sort a list of tuples based on the second element of each tuple."
      ],
      "metadata": {
        "id": "h4JXFGii0vpK"
      }
    },
    {
      "cell_type": "code",
      "source": [
        "# Example tuples\n",
        "tuples = [(1, 5), (3, 2), (2, 8), (4, 1)]\n",
        "\n",
        "# Sort the list of tuples based on the second element using a lambda function\n",
        "sorted_tuples = sorted(tuples, key=lambda x: x[1])\n",
        "\n",
        "print(sorted_tuples)"
      ],
      "metadata": {
        "id": "Oj7bSo1n0tEV"
      },
      "execution_count": null,
      "outputs": []
    },
    {
      "cell_type": "markdown",
      "source": [
        "**Question ->>** Write a Python program that uses `map()` to convert a list of temperatures from Celsius to Fahrenheit."
      ],
      "metadata": {
        "id": "niCJ4lSL2FUU"
      }
    },
    {
      "cell_type": "code",
      "source": [
        "celsius_temps = [0, 10, 20, 30, 40]\n",
        "\n",
        "#map function to convert Celsius to Fahrenheit\n",
        "fahrenheit_temps = list(map(lambda c: (9/5) * c + 32, celsius_temps))\n",
        "\n",
        "print(fahrenheit_temps)"
      ],
      "metadata": {
        "id": "j0anDe2y2adW"
      },
      "execution_count": null,
      "outputs": []
    },
    {
      "cell_type": "markdown",
      "source": [
        "**Question -->** Create a Python program that uses `filter()` to remove all the vowels from a given string."
      ],
      "metadata": {
        "id": "rIznHZmq3HmP"
      }
    },
    {
      "cell_type": "code",
      "source": [
        "string = \"This is a test string.\"\n",
        "vowels = \"aeiouAEIOU\"\n",
        "\n",
        "# filter() to remove vowels\n",
        "filtered_string = ''.join(filter(lambda char: char not in vowels, string))\n",
        "\n",
        "print(filtered_string)"
      ],
      "metadata": {
        "id": "JxkzVAYA3Pia"
      },
      "execution_count": null,
      "outputs": []
    },
    {
      "cell_type": "markdown",
      "source": [
        "**Question ->** Write a Python program, which returns a list with 2-tuples. Each tuple consists of the order number and the\n",
        "product of the price per item and the quantity. The product should be increased by 10,- € if the value of the\n",
        "order is smaller than 100,00 €.\n",
        "\n",
        "Write a Python program using lambda and map."
      ],
      "metadata": {
        "id": "73giWtG-5Ioo"
      }
    },
    {
      "cell_type": "code",
      "source": [
        "orders = [ [\"34587\", \"Learning Python, Mark Lutz\", 4, 40.95],\n",
        "           [\"98762\", \"Programming Python, Mark Lutz\", 5, 56.80],\n",
        "           [\"77226\", \"Head First Python, Paul Barry\", 3,32.95],\n",
        "           [\"88112\", \"Einführung in Python3, Bernd Klein\", \t3, 24.99]]\n",
        "\n",
        "min_order = 100\n",
        "invoice_totals = list(map(lambda x: x if x[1] >= min_order else (x[0], x[1] + 10),\n",
        "                           map(lambda x: (x[0],x[2] * x[3]), orders)))\n",
        "\n",
        "print(invoice_totals)\n"
      ],
      "metadata": {
        "id": "zfEBdPTm5Tq2"
      },
      "execution_count": null,
      "outputs": []
    }
  ]
}