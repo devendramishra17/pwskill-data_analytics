{
  "nbformat": 4,
  "nbformat_minor": 0,
  "metadata": {
    "colab": {
      "provenance": [],
      "authorship_tag": "ABX9TyMmkgdjTFHjA7RH84yWhx/Z",
      "include_colab_link": true
    },
    "kernelspec": {
      "name": "python3",
      "display_name": "Python 3"
    },
    "language_info": {
      "name": "python"
    }
  },
  "cells": [
    {
      "cell_type": "markdown",
      "metadata": {
        "id": "view-in-github",
        "colab_type": "text"
      },
      "source": [
        "<a href=\"https://colab.research.google.com/github/devendramishra17/pwskill-data_analytics/blob/main/Untitled1.ipynb\" target=\"_parent\"><img src=\"https://colab.research.google.com/assets/colab-badge.svg\" alt=\"Open In Colab\"/></a>"
      ]
    },
    {
      "cell_type": "code",
      "execution_count": null,
      "metadata": {
        "id": "EHLr6i0Kqi4i"
      },
      "outputs": [],
      "source": []
    },
    {
      "cell_type": "markdown",
      "source": [
        "**Question --** Explain the key features of python that make it a popular choice for programming?\n",
        "\n",
        "**Solution -->**  Python's popularity stems from its simple and readable syntax, which makes it accessible to beginners and efficient for development. It offers extensive libraries and frameworks that support various tasks, from web development to data science. Additionally, Python is platform-independent and has a large, active community that continuously contributes to its growth and support.\n"
      ],
      "metadata": {
        "id": "QTtMJ9_MqkCt"
      }
    },
    {
      "cell_type": "markdown",
      "source": [
        "**Question -->** Describe the role of predefined keywords in python and provide examples of how they are used in a programe?\n",
        "\n",
        "**Answer -->**  \n",
        "Predefined keywords in Python are reserved words that have special meanings and cannot be used as identifiers. They facilitate core functionalities like control flow, data handling, and defining structures. For example, if, for, and def are keywords used to write conditional statements, loops, and functions respectively."
      ],
      "metadata": {
        "id": "ZkM_wHjorkWC"
      }
    },
    {
      "cell_type": "markdown",
      "source": [
        "**Question -->** compare and contrast murtable and immutable objects in python with example?\n",
        "\n",
        "**Answer -->>** In Python, mutable objects (like lists and dictionaries) can be changed after creation, allowing modification of their content. Immutable objects (like strings and tuples) cannot be altered once created, ensuring data integrity and facilitating hash-based operations. For example, a list [1, 2, 3] can be modified with list[0] = 4, whereas a string \"hello\" cannot be changed directly\n",
        "\n"
      ],
      "metadata": {
        "id": "EIIwbraYsURG"
      }
    },
    {
      "cell_type": "code",
      "source": [
        "# Mutable example\n",
        "my_list = [1, 2, 3]\n",
        "my_list[0] = 4  # Changes the list to [4, 2, 3]\n",
        "\n",
        "# Immutable example\n",
        "my_string = \"hello\"\n",
        "# my_string[0] = \"H\" would raise an error as strings are immutable\n",
        "new_string = \"H\" + my_string[1:]  # Creates a new string \"Hello\"\n"
      ],
      "metadata": {
        "id": "di4XEOSjtssg"
      },
      "execution_count": null,
      "outputs": []
    },
    {
      "cell_type": "markdown",
      "source": [
        "**Question -->** Discuss the different types of operators in python and provide the examples of how they are used?\n",
        "\n",
        "**Answer -->>** Python features various types of operators including arithmetic (e.g., +, -, *, / for mathematical operations), comparison (e.g., ==, !=, <, > for comparing values), logical (e.g., and, or, not for combining boolean expressions), and assignment (e.g., =, +=, -= for assigning values). For example, a + b adds two numbers, a == b checks equality, a and b combines two conditions, and a += 1 increments a variable.\n"
      ],
      "metadata": {
        "id": "mCSuTIyOdW_3"
      }
    },
    {
      "cell_type": "code",
      "source": [
        "# Arithmetic\n",
        "result = 3 + 2  # result is 5\n",
        "\n",
        "# Comparison\n",
        "is_equal = (3 == 3)  # is_equal is True\n",
        "\n",
        "# Logical\n",
        "both_true = (3 > 1) and (2 < 4)  # both_true is True\n",
        "\n",
        "# Assignment\n",
        "a = 5\n",
        "a += 2  # a is now 7\n"
      ],
      "metadata": {
        "id": "qBXL4rYud-km"
      },
      "execution_count": null,
      "outputs": []
    },
    {
      "cell_type": "markdown",
      "source": [
        "**Question -->** Explain the concept of type casting in python with examples?\n",
        "\n",
        "**Answer -->>** Type casting in Python is the process of converting one data type to another, enabling operations between incompatible types. This can be done using functions like int(), float(), and str(). For example, int('123') converts the string '123' to the integer 123, while str(456) converts the integer 456 to the string '456'.\n"
      ],
      "metadata": {
        "id": "M6HmVXIEeLvy"
      }
    },
    {
      "cell_type": "code",
      "source": [
        "# Convert string to integer\n",
        "num = int('123')  # num is now 123\n",
        "\n",
        "# Convert integer to string\n",
        "text = str(456)  # text is now '456'\n",
        "\n",
        "# Convert float to integer\n",
        "whole_number = int(7.89)  # whole_number is now 7\n"
      ],
      "metadata": {
        "id": "v-eeEMHsewtI"
      },
      "execution_count": null,
      "outputs": []
    },
    {
      "cell_type": "markdown",
      "source": [
        "**Question -->** How do conditional statements work in python ? Illustrate with examples.\n",
        "\n",
        "**Answer -->>** Conditional statements in Python allow for decision-making in code, executing different blocks based on certain conditions. The primary conditional statements are if, elif, and else, which evaluate boolean expressions to determine the flow. For example,\n",
        "if x > 0: print(\"Positive\")\n",
        "elif x == 0: print(\"Zero\")\n",
        "else: print(\"Negative\")\n",
        "will print \"Positive\", \"Zero\", or \"Negative\" based on the value of x."
      ],
      "metadata": {
        "id": "kS5kJYTpe6T6"
      }
    },
    {
      "cell_type": "code",
      "source": [
        "x = 5\n",
        "if x > 0:\n",
        "    print(\"Positive\")\n",
        "elif x == 0:\n",
        "    print(\"Zero\")\n",
        "else:\n",
        "    print(\"Negative\")\n"
      ],
      "metadata": {
        "colab": {
          "base_uri": "https://localhost:8080/"
        },
        "id": "TAHeIsPgfncu",
        "outputId": "076d0ca4-0662-423a-a6a6-1933be4b3c2d"
      },
      "execution_count": null,
      "outputs": [
        {
          "output_type": "stream",
          "name": "stdout",
          "text": [
            "Positive\n"
          ]
        }
      ]
    },
    {
      "cell_type": "markdown",
      "source": [
        "**Question -->** Describe different types loops in python and their use case with examples.\n",
        "\n",
        "**Answer -->>** Python supports two main types of loops: for loops and while loops. For loops iterate over a sequence (like a list, tuple, or string) and are useful for when the number of iterations is known. While loops execute as long as a condition is true, making them suitable for situations where the number of iterations isn't predetermined. For example, for i in range(5): print(i) prints numbers 0 to 4, and while x < 5: x += 1 increments x until it reaches 5."
      ],
      "metadata": {
        "id": "HTccIQIvfzib"
      }
    },
    {
      "cell_type": "code",
      "source": [
        "# For loop example\n",
        "for i in range(5):\n",
        "    print(i)  # prints 0, 1, 2, 3, 4\n",
        "\n",
        "# While loop example\n",
        "x = 0\n",
        "while x < 5:\n",
        "    x += 1\n",
        "    print(x)  # prints 1, 2, 3, 4, 5\n"
      ],
      "metadata": {
        "colab": {
          "base_uri": "https://localhost:8080/"
        },
        "id": "BueRodP6gSCA",
        "outputId": "8157f186-664c-46ce-8162-f763da83dd60"
      },
      "execution_count": null,
      "outputs": [
        {
          "output_type": "stream",
          "name": "stdout",
          "text": [
            "0\n",
            "1\n",
            "2\n",
            "3\n",
            "4\n",
            "1\n",
            "2\n",
            "3\n",
            "4\n",
            "5\n"
          ]
        }
      ]
    }
  ]
}