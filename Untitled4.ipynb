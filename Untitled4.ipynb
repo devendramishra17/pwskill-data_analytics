{
  "nbformat": 4,
  "nbformat_minor": 0,
  "metadata": {
    "colab": {
      "provenance": [],
      "authorship_tag": "ABX9TyONyKuR2qhR0lqiIT/9hnYM",
      "include_colab_link": true
    },
    "kernelspec": {
      "name": "python3",
      "display_name": "Python 3"
    },
    "language_info": {
      "name": "python"
    }
  },
  "cells": [
    {
      "cell_type": "markdown",
      "metadata": {
        "id": "view-in-github",
        "colab_type": "text"
      },
      "source": [
        "<a href=\"https://colab.research.google.com/github/devendramishra17/pwskill-data_analytics/blob/main/Untitled4.ipynb\" target=\"_parent\"><img src=\"https://colab.research.google.com/assets/colab-badge.svg\" alt=\"Open In Colab\"/></a>"
      ]
    },
    {
      "cell_type": "code",
      "execution_count": null,
      "metadata": {
        "id": "gbvAq7IL1QvL"
      },
      "outputs": [],
      "source": []
    },
    {
      "cell_type": "markdown",
      "source": [
        "\n",
        "**Python assignment 3**"
      ],
      "metadata": {
        "id": "bq8ApYFW1TPz"
      }
    },
    {
      "cell_type": "markdown",
      "source": [
        "**Question ->** What is the difference between a function and and a method ?\n",
        "\n",
        "**Answer ->**\n",
        "A function is independent and defined outside classes, while a method is defined within a class and called on an instance of that class.\n"
      ],
      "metadata": {
        "id": "tinTcYrh1bhn"
      }
    },
    {
      "cell_type": "code",
      "source": [
        "# Function\n",
        "def greet(name):\n",
        "    return f\"Hello, {name}!\"\n",
        "\n",
        "# Method\n",
        "class Greeter:\n",
        "    def greet(self, name):\n",
        "        return f\"Hello, {name}!\"\n",
        "\n",
        "# Usage\n",
        "print(greet(\"Alice\"))  # Function call\n",
        "greeter = Greeter()\n",
        "print(greeter.greet(\"Bob\"))  # Method call\n"
      ],
      "metadata": {
        "id": "n-m8keQw2Ujq"
      },
      "execution_count": null,
      "outputs": []
    },
    {
      "cell_type": "markdown",
      "source": [
        "**Question -->** Explain the concept of functional argunment and parameters in python ?\n",
        "\n",
        "**Answer -->** Parameters are the variables defined in a function signature, while arguments are the actual values passed to the function when it's called."
      ],
      "metadata": {
        "id": "SsrjDPzo2Wtb"
      }
    },
    {
      "cell_type": "code",
      "source": [
        "def greet(name):  # 'name' is a parameter\n",
        "    return f\"Hello, {name}!\"\n",
        "\n",
        "greet(\"Alice\")  # \"Alice\" is an argument passed to the function\n"
      ],
      "metadata": {
        "id": "LDwJOnOI3ya-"
      },
      "execution_count": null,
      "outputs": []
    },
    {
      "cell_type": "markdown",
      "source": [
        "**Question -->** What are the different ways to define and call a function in Python?\n",
        "\n",
        "**Answer -->**\n",
        "In Python, functions can be defined using standard, default, keyword, and variable-length arguments, and can be called in multiple ways."
      ],
      "metadata": {
        "id": "fbuGf4s632ha"
      }
    },
    {
      "cell_type": "code",
      "source": [
        "def greet(name=\"Guest\"):  # Default argument\n",
        "    return f\"Hello, {name}!\"\n",
        "\n",
        "print(greet(\"Alice\"))  # Positional argument\n",
        "print(greet(name=\"Bob\"))  # Keyword argument\n",
        "print(greet())  # Uses default value\n"
      ],
      "metadata": {
        "id": "UeW6AecI4Mwe"
      },
      "execution_count": null,
      "outputs": []
    },
    {
      "cell_type": "markdown",
      "source": [
        "**Question -->**  What is the purpose of the `return` statement in a Python function?\n",
        "\n",
        "\n",
        "**Answer -->**\n",
        "\n",
        "The return statement is used to exit a function and send a value back to the caller. It ends the function’s execution and can return any data type."
      ],
      "metadata": {
        "id": "nuW9gJLQ4Pjp"
      }
    },
    {
      "cell_type": "code",
      "source": [
        "def add(a, b):\n",
        "    return a + b  # Returns the result\n",
        "\n",
        "result = add(3, 5)\n",
        "print(result)  # Output: 8\n",
        "\n"
      ],
      "metadata": {
        "id": "qsFuB6OR4kKy"
      },
      "execution_count": null,
      "outputs": []
    },
    {
      "cell_type": "markdown",
      "source": [
        "**Question -->**  What are iterators in Python and how do they differ from iterables?\n",
        "\n",
        "**Answer -->** An iterable is an object (like a list) that can be looped over, while an iterator is an object with a __next__() method to fetch items one at a time."
      ],
      "metadata": {
        "id": "nDeH0iV947vw"
      }
    },
    {
      "cell_type": "code",
      "source": [
        "iterable = [1, 2, 3]  # Iterable\n",
        "iterator = iter(iterable)  # Iterator\n",
        "\n",
        "print(next(iterator))  # Output: 1 (uses __next__())\n"
      ],
      "metadata": {
        "id": "1E1-Z2dL5cUX"
      },
      "execution_count": null,
      "outputs": []
    },
    {
      "cell_type": "markdown",
      "source": [
        "**Question -->** Explain the concept of generators in Python and how they are defined.\n",
        "\n",
        "**ANswer -->** Generators are special iterators that generate values lazily using the yield keyword instead of return. They are defined like functions but produce a sequence of values on-the-fly."
      ],
      "metadata": {
        "id": "5PiB3TJk5fyY"
      }
    },
    {
      "cell_type": "code",
      "source": [
        "def count_up_to(max):\n",
        "    count = 1\n",
        "    while count <= max:\n",
        "        yield count  # Generates the next value\n",
        "        count += 1\n",
        "\n",
        "for num in count_up_to(3):\n",
        "    print(num)  # Output: 1, 2, 3\n"
      ],
      "metadata": {
        "id": "GGhANeez5790"
      },
      "execution_count": null,
      "outputs": []
    },
    {
      "cell_type": "markdown",
      "source": [
        "**Question -->** What are the advantages of using generators over regular functions?\n",
        "\n",
        "**Answer -->** Generators are memory-efficient because they yield items one at a time instead of storing the entire result in memory. They enable lazy evaluation, only computing values when needed, and simplify the creation of iterators."
      ],
      "metadata": {
        "id": "xjFqUgGw5_Ti"
      }
    },
    {
      "cell_type": "code",
      "source": [
        "def squares_gen(n):\n",
        "    for i in range(n):\n",
        "        yield i * i  # Generates each square on demand\n",
        "\n",
        "for square in squares_gen(3):\n",
        "    print(square)  # Output: 0, 1, 4\n"
      ],
      "metadata": {
        "id": "-HZ4Y9p664LL"
      },
      "execution_count": null,
      "outputs": []
    },
    {
      "cell_type": "markdown",
      "source": [
        "**Question -->**  What is a lambda function in Python and when is it typically used?\n",
        "\n",
        "**Answer -->** A lambda function is a small, anonymous function defined with the lambda keyword, used for simple operations where a full function definition is unnecessary. It's often used as an argument for functions like map() or filter()."
      ],
      "metadata": {
        "id": "vld2MRmz65VT"
      }
    },
    {
      "cell_type": "code",
      "source": [
        "# Lambda function to square a number\n",
        "square = lambda x: x * x\n",
        "\n",
        "print(square(5))  # Output: 25\n",
        "\n",
        "# Used with map\n",
        "numbers = [1, 2, 3]\n",
        "squares = list(map(lambda x: x * x, numbers))\n",
        "print(squares)  # Output: [1, 4, 9]\n"
      ],
      "metadata": {
        "id": "iPrTFd5J7Ru7"
      },
      "execution_count": null,
      "outputs": []
    },
    {
      "cell_type": "markdown",
      "source": [
        "**Question -->** Explain the purpose and usage of the `map()` function in Python.\n",
        "\n",
        "**Answer -->**\n",
        "The map() function applies a given function to each item in an iterable and returns an iterator of the results. It's used for transforming data in a concise and functional way."
      ],
      "metadata": {
        "id": "syfwfYbO7UtU"
      }
    },
    {
      "cell_type": "code",
      "source": [
        "def square(x):\n",
        "    return x * x\n",
        "\n",
        "numbers = [1, 2, 3]\n",
        "squared_numbers = map(square, numbers)\n",
        "print(list(squared_numbers))  # Output: [1, 4, 9]\n"
      ],
      "metadata": {
        "id": "nrcr5BYy7nGa"
      },
      "execution_count": null,
      "outputs": []
    },
    {
      "cell_type": "markdown",
      "source": [
        "  **Question -->** What is the difference between `map()`, `reduce()`, and `filter()` functions in Python?\n",
        "\n",
        "  **ANswer -->**\n",
        "map() applies a function to each item in an iterable, filter() applies a function to filter items based on a condition, and reduce() (from functools) cumulatively applies a function to items to reduce them to a single value."
      ],
      "metadata": {
        "id": "XbO4zBE47tLK"
      }
    },
    {
      "cell_type": "code",
      "source": [
        "from functools import reduce\n",
        "\n",
        "# map()\n",
        "numbers = [1, 2, 3]\n",
        "squares = map(lambda x: x * x, numbers)  # Output: [1, 4, 9]\n",
        "\n",
        "# filter()\n",
        "evens = filter(lambda x: x % 2 == 0, numbers)  # Output: [2]\n",
        "\n",
        "# reduce()\n",
        "sum_all = reduce(lambda x, y: x + y, numbers)  # Output: 6\n"
      ],
      "metadata": {
        "id": "7Opzx6T08Ds8"
      },
      "execution_count": null,
      "outputs": []
    },
    {
      "cell_type": "markdown",
      "source": [
        "**Question -->** Using pen & Paper write the internal mechanism for sum operation using  reduce function on this given\n",
        "list:[47,11,42,13];\n",
        "\n",
        "**Answer -->** To illustrate how the reduce function performs a sum operation on the list [47, 11, 42, 13], let's break it down step-by-step:"
      ],
      "metadata": {
        "id": "eeQKPgtk8HKC"
      }
    },
    {
      "cell_type": "markdown",
      "source": [
        "Internal Mechanism of reduce with Sum Operation\n",
        "\n",
        "Initial Setup:\n",
        "\n",
        "List: [47, 11, 42, 13]\n",
        "Function (Lambda for sum): lambda x, y: x + y\n",
        "Initial Value: Not provided, so the first element of the list is used as the initial value.\n",
        "Step-by-Step Computation:\n",
        "\n",
        "Step 1:\n",
        "\n",
        "First Pair: 47 (initial value) and 11\n",
        "Operation: 47 + 11 = 58\n",
        "Intermediate Result: 58\n",
        "\n",
        "\n",
        "Step 2:\n",
        "\n",
        "Next Pair: 58 (result from Step 1) and 42\n",
        "Operation: 58 + 42 = 100\n",
        "Intermediate Result: 100\n",
        "\n",
        "\n",
        "Step 3:\n",
        "\n",
        "Final Pair: 100 (result from Step 2) and 13\n",
        "Operation: 100 + 13 = 113\n",
        "Final Result: 113\n",
        "Summary:\n",
        "Final Result of reduce(lambda x, y: x + y, [47, 11, 42, 13]): 113"
      ],
      "metadata": {
        "id": "koD21P1583Zl"
      }
    },
    {
      "cell_type": "code",
      "source": [
        "47\n",
        "+ 11\n",
        "------\n",
        " 58\n",
        "\n",
        "58\n",
        "+ 42\n",
        "------\n",
        "100\n",
        "\n",
        "100\n",
        "+ 13\n",
        "------\n",
        "113\n"
      ],
      "metadata": {
        "id": "ROztJsAw9EbM"
      },
      "execution_count": null,
      "outputs": []
    }
  ]
}