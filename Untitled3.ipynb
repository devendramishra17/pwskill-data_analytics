{
  "nbformat": 4,
  "nbformat_minor": 0,
  "metadata": {
    "colab": {
      "provenance": []
    },
    "kernelspec": {
      "name": "python3",
      "display_name": "Python 3"
    },
    "language_info": {
      "name": "python"
    }
  },
  "cells": [
    {
      "cell_type": "markdown",
      "source": [
        "**Question --** Discuss String slicing and provide examples?\n",
        "\n",
        "\n",
        "**Solutions -->** String slicing is a method in Python that allows you to obtain a substring by specifying a start and end index, and an optional step.\n",
        " For example, text = \"Hello, World!\"; substring = text[0:5] will yield \"Hello\", and text[::2] will return every second character, \"Hlo ol!\"."
      ],
      "metadata": {
        "id": "IybcMCcZtDtz"
      }
    },
    {
      "cell_type": "markdown",
      "source": [
        "**Question -->** Explain the key features of the list in the python?\n",
        "\n",
        "**Answer -->** Lists in Python are ordered, mutable collections that can store elements of different data types. They support various operations like indexing, slicing, appending, and removing items, making them versatile for handling data."
      ],
      "metadata": {
        "id": "xXZbzo5rmNA7"
      }
    },
    {
      "cell_type": "markdown",
      "source": [
        "**Question -->** Describe how to acesss, modify and delete elements in a list with examples?\n",
        "\n",
        "**Answer -->** To access elements in a list, use indexing, e.g., my_list[0] retrieves the first element. To modify an element, assign a new value to the index, e.g., my_list[1] = 'new_value'. To delete an element, use the del statement, e.g., del my_list[2]."
      ],
      "metadata": {
        "id": "BWjH9R2WnZDL"
      }
    },
    {
      "cell_type": "code",
      "source": [
        "# Accessing elements\n",
        "my_list = [1, 2, 3, 4]\n",
        "first_element = my_list[0]  # Output: 1\n",
        "\n",
        "# Modifying elements\n",
        "my_list[1] = 'new_value'  # my_list is now [1, 'new_value', 3, 4]\n",
        "\n",
        "# Deleting elements\n",
        "del my_list[2]  # my_list is now [1, 'new_value', 4]\n"
      ],
      "metadata": {
        "id": "tYIDYW1_ofoG"
      },
      "execution_count": null,
      "outputs": []
    },
    {
      "cell_type": "markdown",
      "source": [
        "**Question -->** Compare and contrast tuples and list with examples.\n",
        "\n",
        "\n",
        "**Answer -->**\n",
        "Lists in Python are mutable, allowing modification of elements, while tuples are immutable and cannot be changed once created. For example, my_list = [1, 2, 3]; my_list[0] = 4 modifies the list to [4, 2, 3], but my_tuple = (1, 2, 3); my_tuple[0] = 4 raises a TypeError."
      ],
      "metadata": {
        "id": "FOx5SCt9oigY"
      }
    },
    {
      "cell_type": "markdown",
      "source": [
        "**Question -->** Describe the key features of sets and provide examples of their use .\n",
        "\n",
        "**Answer -->**\n",
        "Sets in Python are unordered collections of unique elements, making them useful for membership testing and eliminating duplicates. They support operations like union, intersection, and difference. For example, my_set = {1, 2, 3, 3}; my_set.add(4) results in {1, 2, 3, 4}, and my_set.intersection({2, 3, 5}) returns {2, 3}."
      ],
      "metadata": {
        "id": "uZOAVCHGpYVA"
      }
    },
    {
      "cell_type": "markdown",
      "source": [
        "**Question -->** Discuss the use cases of tuples and sets in python programming.\n",
        "\n",
        "**Answer -->** Tuples are ideal for storing fixed collections of items, such as coordinates or configuration settings, where immutability is required. Sets are useful for operations involving unique elements, such as removing duplicates from a list or performing mathematical set operations like union and intersection. For example, coords = (10, 20) uses a tuple for fixed data, and unique_items = set([1, 2, 2, 3]) uses a set to get {1, 2, 3}."
      ],
      "metadata": {
        "id": "EcuMLsPcpV6o"
      }
    },
    {
      "cell_type": "markdown",
      "source": [
        "**Question -->** Describe how to add , modify and delete items in a dictionary in python with examples.\n",
        "\n",
        "**Answer -->** To add items to a dictionary, use a new key assignment, e.g., my_dict['key'] = 'value'. To modify an item, assign a new value to an existing key, e.g., my_dict['key'] = 'new_value'. To delete an item, use the del statement, e.g., del my_dict['key'].\n"
      ],
      "metadata": {
        "id": "Js4nRO9fqvU4"
      }
    },
    {
      "cell_type": "code",
      "source": [
        "my_dict = {'a': 1, 'b': 2}\n",
        "my_dict['c'] = 3  # Add: {'a': 1, 'b': 2, 'c': 3}\n",
        "my_dict['a'] = 10  # Modify: {'a': 10, 'b': 2, 'c': 3}\n",
        "del my_dict['b']  # Delete: {'a': 10, 'c': 3}\n"
      ],
      "metadata": {
        "id": "TziiHufkr37R"
      },
      "execution_count": null,
      "outputs": []
    },
    {
      "cell_type": "markdown",
      "source": [
        "**Question -->** Discuss the importance of dictionary keys being immutable and provide examples.\n",
        "\n",
        "\n",
        "**Answer -->** Dictionary keys must be immutable to ensure the hash values remain constant, allowing efficient data retrieval. Mutable keys, like lists, can change, leading to incorrect data storage and retrieval. For example, my_dict = {('key1', 'key2'): 'value'} is valid, but {['key1', 'key2']: 'value'} raises a TypeError."
      ],
      "metadata": {
        "id": "u8BvjJy_r7r3"
      }
    }
  ]
}